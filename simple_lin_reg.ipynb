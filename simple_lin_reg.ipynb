{
  "nbformat": 4,
  "nbformat_minor": 0,
  "metadata": {
    "colab": {
      "name": "simple_lin_reg.ipynb",
      "provenance": [],
      "collapsed_sections": [],
      "authorship_tag": "ABX9TyO18f7d/Uw4dY1zX9dXKce/",
      "include_colab_link": true
    },
    "kernelspec": {
      "name": "python3",
      "display_name": "Python 3"
    }
  },
  "cells": [
    {
      "cell_type": "markdown",
      "metadata": {
        "id": "view-in-github",
        "colab_type": "text"
      },
      "source": [
        "<a href=\"https://colab.research.google.com/github/anesz271/NN-first-steps/blob/main/simple_lin_reg.ipynb\" target=\"_parent\"><img src=\"https://colab.research.google.com/assets/colab-badge.svg\" alt=\"Open In Colab\"/></a>"
      ]
    },
    {
      "cell_type": "code",
      "metadata": {
        "id": "kM7yDHo6lzAc",
        "colab": {
          "base_uri": "https://localhost:8080/",
          "height": 1000
        },
        "outputId": "71129e7a-b6e5-4b68-d934-6c1bfa25380d"
      },
      "source": [
        "# import functions and libraries\r\n",
        "from __future__ import absolute_import, division, print_function, unicode_literals\r\n",
        "\r\n",
        "try:\r\n",
        "  %tensorflow_version 2.x\r\n",
        "except Exception:\r\n",
        "  pass\r\n",
        "import tensorflow as tf\r\n",
        "import numpy as np\r\n",
        "import matplotlib.pyplot as plt\r\n",
        "\r\n",
        "# initial guess\r\n",
        "INITIAL_W = 10.0\r\n",
        "INITIAL_B = 10.0\r\n",
        "\r\n",
        "# define loss function\r\n",
        "def loss(predicted_y, target_y):\r\n",
        "  return tf.reduce_mean(tf.square(predicted_y - target_y))\r\n",
        "\r\n",
        "# define training procedure\r\n",
        "def train(model, inputs, outputs, learning_rate):\r\n",
        "  with tf.GradientTape() as t:\r\n",
        "    current_loss = loss(model(inputs), outputs)\r\n",
        "  # Here is where you differentiate the model values with respect to the loss function\r\n",
        "  dw, db = t.gradient(current_loss, [model.w, model.b])\r\n",
        "  # And here is where you update the model values based on the learning rate chosen\r\n",
        "  model.w.assign_sub(learning_rate * dw)\r\n",
        "  model.b.assign_sub(learning_rate * db)\r\n",
        "  return current_loss\r\n",
        "\r\n",
        "# define simple linear regression model\r\n",
        "class Model(object):\r\n",
        "  def __init__(self):\r\n",
        "    # Initialize the weights\r\n",
        "    self.w = tf.Variable(INITIAL_W)\r\n",
        "    self.b = tf.Variable(INITIAL_B)\r\n",
        "\r\n",
        "  def __call__(self, x):\r\n",
        "    return self.w * x + self.b\r\n",
        "\r\n",
        "# training the model\r\n",
        "# define input data and learning rate\r\n",
        "xs = [-1.0, 0.0, 1.0, 2.0, 3.0, 4.0]\r\n",
        "ys = [-3.0, -1.0, 1.0, 3.0, 5.0, 7.0]\r\n",
        "LEARNING_RATE=0.08\r\n",
        "\r\n",
        "# instantiate model\r\n",
        "model = Model()\r\n",
        "\r\n",
        "# collect the history of w-values and b-values to plot later\r\n",
        "list_w, list_b = [], []\r\n",
        "epochs = range(50)\r\n",
        "losses = []\r\n",
        "for epoch in epochs:\r\n",
        "  list_w.append(model.w.numpy())\r\n",
        "  list_b.append(model.b.numpy())\r\n",
        "  current_loss = train(model, xs, ys, learning_rate=LEARNING_RATE)\r\n",
        "  losses.append(current_loss)\r\n",
        "  print('Epoch %2d: w=%1.2f b=%1.2f, loss=%2.5f' %\r\n",
        "        (epoch, list_w[-1], list_b[-1], current_loss))\r\n",
        "  \r\n",
        "# plot training values\r\n",
        "TRUE_w = 2.0\r\n",
        "TRUE_b = -1.0\r\n",
        "plt.plot(epochs, list_w, 'r', epochs, list_b, 'b')\r\n",
        "plt.plot([TRUE_w] * len(epochs), 'r--', [TRUE_b] * len(epochs), 'b--')\r\n",
        "plt.legend(['w', 'b', 'true w', 'true b'])\r\n",
        "plt.show()"
      ],
      "execution_count": null,
      "outputs": [
        {
          "output_type": "stream",
          "text": [
            "Epoch  0: w=10.00 b=10.00, loss=715.66669\n",
            "Epoch  1: w=0.75 b=6.32, loss=34.17524\n",
            "Epoch  2: w=0.03 b=5.45, loss=23.53568\n",
            "Epoch  3: w=0.11 b=4.89, loss=19.76055\n",
            "Epoch  4: w=0.26 b=4.40, loss=16.63090\n",
            "Epoch  5: w=0.40 b=3.96, loss=13.99728\n",
            "Epoch  6: w=0.53 b=3.55, loss=11.78072\n",
            "Epoch  7: w=0.65 b=3.17, loss=9.91516\n",
            "Epoch  8: w=0.77 b=2.83, loss=8.34503\n",
            "Epoch  9: w=0.87 b=2.51, loss=7.02354\n",
            "Epoch 10: w=0.96 b=2.22, loss=5.91132\n",
            "Epoch 11: w=1.05 b=1.95, loss=4.97522\n",
            "Epoch 12: w=1.13 b=1.71, loss=4.18736\n",
            "Epoch 13: w=1.20 b=1.49, loss=3.52427\n",
            "Epoch 14: w=1.26 b=1.28, loss=2.96617\n",
            "Epoch 15: w=1.32 b=1.09, loss=2.49646\n",
            "Epoch 16: w=1.38 b=0.92, loss=2.10113\n",
            "Epoch 17: w=1.43 b=0.76, loss=1.76840\n",
            "Epoch 18: w=1.48 b=0.62, loss=1.48836\n",
            "Epoch 19: w=1.52 b=0.48, loss=1.25267\n",
            "Epoch 20: w=1.56 b=0.36, loss=1.05430\n",
            "Epoch 21: w=1.60 b=0.25, loss=0.88735\n",
            "Epoch 22: w=1.63 b=0.14, loss=0.74683\n",
            "Epoch 23: w=1.66 b=0.05, loss=0.62856\n",
            "Epoch 24: w=1.69 b=-0.04, loss=0.52903\n",
            "Epoch 25: w=1.71 b=-0.12, loss=0.44525\n",
            "Epoch 26: w=1.74 b=-0.19, loss=0.37474\n",
            "Epoch 27: w=1.76 b=-0.26, loss=0.31540\n",
            "Epoch 28: w=1.78 b=-0.32, loss=0.26545\n",
            "Epoch 29: w=1.80 b=-0.37, loss=0.22342\n",
            "Epoch 30: w=1.81 b=-0.43, loss=0.18804\n",
            "Epoch 31: w=1.83 b=-0.47, loss=0.15826\n",
            "Epoch 32: w=1.84 b=-0.52, loss=0.13320\n",
            "Epoch 33: w=1.86 b=-0.56, loss=0.11211\n",
            "Epoch 34: w=1.87 b=-0.59, loss=0.09435\n",
            "Epoch 35: w=1.88 b=-0.63, loss=0.07941\n",
            "Epoch 36: w=1.89 b=-0.66, loss=0.06684\n",
            "Epoch 37: w=1.90 b=-0.69, loss=0.05625\n",
            "Epoch 38: w=1.91 b=-0.71, loss=0.04734\n",
            "Epoch 39: w=1.91 b=-0.74, loss=0.03985\n",
            "Epoch 40: w=1.92 b=-0.76, loss=0.03354\n",
            "Epoch 41: w=1.93 b=-0.78, loss=0.02823\n",
            "Epoch 42: w=1.93 b=-0.80, loss=0.02376\n",
            "Epoch 43: w=1.94 b=-0.81, loss=0.01999\n",
            "Epoch 44: w=1.94 b=-0.83, loss=0.01683\n",
            "Epoch 45: w=1.95 b=-0.84, loss=0.01416\n",
            "Epoch 46: w=1.95 b=-0.86, loss=0.01192\n",
            "Epoch 47: w=1.96 b=-0.87, loss=0.01003\n",
            "Epoch 48: w=1.96 b=-0.88, loss=0.00844\n",
            "Epoch 49: w=1.96 b=-0.89, loss=0.00711\n"
          ],
          "name": "stdout"
        },
        {
          "output_type": "display_data",
          "data": {
            "image/png": "[encoded data removed]",
            "text/plain": [
              "<Figure size 432x288 with 1 Axes>"
            ]
          },
          "metadata": {
            "tags": [],
            "needs_background": "light"
          }
        }
      ]
    }
  ]
}