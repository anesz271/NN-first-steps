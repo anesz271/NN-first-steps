{
  "nbformat": 4,
  "nbformat_minor": 0,
  "metadata": {
    "colab": {
      "name": "CNN_to_classify_CIFAR10.ipynb",
      "provenance": [],
      "authorship_tag": "ABX9TyNVr+iXBjUXmMVkor8X3V3/",
      "include_colab_link": true
    },
    "kernelspec": {
      "name": "python3",
      "display_name": "Python 3"
    }
  },
  "cells": [
    {
      "cell_type": "markdown",
      "metadata": {
        "id": "view-in-github",
        "colab_type": "text"
      },
      "source": [
        "<a href=\"https://colab.research.google.com/github/anesz271/NN-first-steps/blob/main/CNN_to_classify_CIFAR10.ipynb\" target=\"_parent\"><img src=\"https://colab.research.google.com/assets/colab-badge.svg\" alt=\"Open In Colab\"/></a>"
      ]
    },
    {
      "cell_type": "code",
      "metadata": {
        "colab": {
          "base_uri": "https://localhost:8080/"
        },
        "id": "wXptX95Njkls",
        "outputId": "a725ed07-a5ef-4178-d7bd-4e346fa963cd"
      },
      "source": [
        "# import libraries and dataset from CIFAR-10\r\n",
        "import tensorflow as tf\r\n",
        "from tensorflow.keras import datasets, layers, models\r\n",
        "import matplotlib.pyplot as plt\r\n",
        "\r\n",
        "(train_images, train_labels), (test_images, test_labels) = datasets.cifar10.load_data()\r\n",
        "\r\n",
        "# normalize pixel values to be between 0 and 1\r\n",
        "train_images = train_images / 255.0\r\n",
        "test_images = test_images / 255.0"
      ],
      "execution_count": 1,
      "outputs": [
        {
          "output_type": "stream",
          "text": [
            "Downloading data from https://www.cs.toronto.edu/~kriz/cifar-10-python.tar.gz\n",
            "170500096/170498071 [==============================] - 4s 0us/step\n"
          ],
          "name": "stdout"
        }
      ]
    },
    {
      "cell_type": "code",
      "metadata": {
        "id": "A3aq2WBwj_2_"
      },
      "source": [
        "FIRST_LAYER = layers.Conv2D(32, (3, 3), activation='relu', input_shape=(32, 32, 3))\r\n",
        "HIDDEN_LAYER_TYPE_1 = layers.MaxPooling2D(2, 2)\r\n",
        "HIDDEN_LAYER_TYPE_2 = tf.keras.layers.Conv2D(64, (3,3), activation='relu')\r\n",
        "HIDDEN_LAYER_TYPE_3 = tf.keras.layers.MaxPooling2D(2,2)\r\n",
        "HIDDEN_LAYER_TYPE_4 = tf.keras.layers.Conv2D(64, (3,3), activation='relu')\r\n",
        "HIDDEN_LAYER_TYPE_5 = tf.keras.layers.Dense(64, activation='relu')\r\n",
        "LAST_LAYER = tf.keras.layers.Dense(10, activation='softmax')\r\n",
        "\r\n",
        "model = models.Sequential([\r\n",
        "       FIRST_LAYER,\r\n",
        "       HIDDEN_LAYER_TYPE_1,\r\n",
        "       HIDDEN_LAYER_TYPE_2,\r\n",
        "       HIDDEN_LAYER_TYPE_3,\r\n",
        "       HIDDEN_LAYER_TYPE_4,\r\n",
        "       layers.Flatten(),\r\n",
        "       HIDDEN_LAYER_TYPE_5,\r\n",
        "       LAST_LAYER,\r\n",
        "])"
      ],
      "execution_count": 2,
      "outputs": []
    },
    {
      "cell_type": "code",
      "metadata": {
        "colab": {
          "base_uri": "https://localhost:8080/",
          "height": 1000
        },
        "id": "HaBEHHeIkGCC",
        "outputId": "1bde17a9-4c24-47a7-94d4-1192646a9fe9"
      },
      "source": [
        "LOSS = 'sparse_categorical_crossentropy'\r\n",
        "NUM_EPOCHS = 20\r\n",
        "\r\n",
        "# compile the model\r\n",
        "model.compile(optimizer='adam',\r\n",
        "              loss=LOSS,\r\n",
        "              metrics=['accuracy'])\r\n",
        "\r\n",
        "# fit the model\r\n",
        "history = model.fit(train_images, train_labels, epochs=NUM_EPOCHS, \r\n",
        "                    validation_data=(test_images, test_labels))\r\n",
        "\r\n",
        "# summarize history for accuracy\r\n",
        "plt.plot(history.history['accuracy'])\r\n",
        "plt.plot(history.history['val_accuracy'])\r\n",
        "plt.title('model accuracy')\r\n",
        "plt.ylabel('accuracy')\r\n",
        "plt.xlabel('epoch')\r\n",
        "plt.legend(['train', 'test'], loc='upper left')\r\n",
        "plt.xlim([0,NUM_EPOCHS])\r\n",
        "plt.ylim([0.4,1.0])\r\n",
        "plt.show()"
      ],
      "execution_count": 3,
      "outputs": [
        {
          "output_type": "stream",
          "text": [
            "Epoch 1/20\n",
            "1563/1563 [==============================] - 70s 44ms/step - loss: 1.7796 - accuracy: 0.3358 - val_loss: 1.3043 - val_accuracy: 0.5418\n",
            "Epoch 2/20\n",
            "1563/1563 [==============================] - 68s 44ms/step - loss: 1.2449 - accuracy: 0.5587 - val_loss: 1.1321 - val_accuracy: 0.5977\n",
            "Epoch 3/20\n",
            "1563/1563 [==============================] - 68s 43ms/step - loss: 1.0867 - accuracy: 0.6167 - val_loss: 1.0397 - val_accuracy: 0.6348\n",
            "Epoch 4/20\n",
            "1563/1563 [==============================] - 66s 42ms/step - loss: 0.9782 - accuracy: 0.6596 - val_loss: 0.9954 - val_accuracy: 0.6506\n",
            "Epoch 5/20\n",
            "1563/1563 [==============================] - 66s 42ms/step - loss: 0.9161 - accuracy: 0.6784 - val_loss: 0.9356 - val_accuracy: 0.6735\n",
            "Epoch 6/20\n",
            "1563/1563 [==============================] - 65s 42ms/step - loss: 0.8457 - accuracy: 0.7012 - val_loss: 0.9593 - val_accuracy: 0.6616\n",
            "Epoch 7/20\n",
            "1563/1563 [==============================] - 65s 42ms/step - loss: 0.7859 - accuracy: 0.7246 - val_loss: 0.8934 - val_accuracy: 0.6917\n",
            "Epoch 8/20\n",
            "1563/1563 [==============================] - 65s 42ms/step - loss: 0.7512 - accuracy: 0.7353 - val_loss: 0.8708 - val_accuracy: 0.6985\n",
            "Epoch 9/20\n",
            "1563/1563 [==============================] - 65s 42ms/step - loss: 0.7059 - accuracy: 0.7520 - val_loss: 0.8582 - val_accuracy: 0.7112\n",
            "Epoch 10/20\n",
            "1563/1563 [==============================] - 65s 42ms/step - loss: 0.6738 - accuracy: 0.7637 - val_loss: 0.8506 - val_accuracy: 0.7127\n",
            "Epoch 11/20\n",
            "1563/1563 [==============================] - 65s 42ms/step - loss: 0.6560 - accuracy: 0.7692 - val_loss: 0.9061 - val_accuracy: 0.6979\n",
            "Epoch 12/20\n",
            "1563/1563 [==============================] - 67s 43ms/step - loss: 0.6196 - accuracy: 0.7802 - val_loss: 0.9619 - val_accuracy: 0.6808\n",
            "Epoch 13/20\n",
            "1563/1563 [==============================] - 67s 43ms/step - loss: 0.5905 - accuracy: 0.7904 - val_loss: 0.9001 - val_accuracy: 0.7019\n",
            "Epoch 14/20\n",
            "1563/1563 [==============================] - 67s 43ms/step - loss: 0.5702 - accuracy: 0.7966 - val_loss: 0.8767 - val_accuracy: 0.7097\n",
            "Epoch 15/20\n",
            "1563/1563 [==============================] - 67s 43ms/step - loss: 0.5442 - accuracy: 0.8088 - val_loss: 0.8794 - val_accuracy: 0.7066\n",
            "Epoch 16/20\n",
            "1563/1563 [==============================] - 67s 43ms/step - loss: 0.5243 - accuracy: 0.8143 - val_loss: 0.9221 - val_accuracy: 0.7010\n",
            "Epoch 17/20\n",
            "1563/1563 [==============================] - 68s 43ms/step - loss: 0.4948 - accuracy: 0.8258 - val_loss: 0.9637 - val_accuracy: 0.7028\n",
            "Epoch 18/20\n",
            "1563/1563 [==============================] - 68s 43ms/step - loss: 0.4877 - accuracy: 0.8262 - val_loss: 0.9811 - val_accuracy: 0.7040\n",
            "Epoch 19/20\n",
            "1563/1563 [==============================] - 69s 44ms/step - loss: 0.4568 - accuracy: 0.8393 - val_loss: 0.9367 - val_accuracy: 0.7126\n",
            "Epoch 20/20\n",
            "1563/1563 [==============================] - 69s 44ms/step - loss: 0.4386 - accuracy: 0.8437 - val_loss: 0.9650 - val_accuracy: 0.7031\n"
          ],
          "name": "stdout"
        },
        {
          "output_type": "display_data",
          "data": {
            "image/png": "[encoded data removed]",
            "text/plain": [
              "<Figure size 432x288 with 1 Axes>"
            ]
          },
          "metadata": {
            "tags": [],
            "needs_background": "light"
          }
        }
      ]
    }
  ]
}